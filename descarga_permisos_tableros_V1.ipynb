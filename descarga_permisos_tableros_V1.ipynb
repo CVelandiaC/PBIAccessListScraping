{
 "cells": [
  {
   "cell_type": "code",
   "execution_count": null,
   "metadata": {},
   "outputs": [],
   "source": [
    "from selenium import webdriver\n",
    "from selenium.webdriver.common.keys import Keys\n",
    "from selenium.webdriver.common.by import By\n",
    "from selenium.webdriver.chrome.service import Service\n",
    "from webdriver_manager.chrome import ChromeDriverManager\n",
    "from selenium.webdriver import ActionChains\n",
    "from selenium.webdriver.common.actions.wheel_input import ScrollOrigin\n",
    "\n",
    "import time \n",
    "import os \n",
    "from os.path import exists\n",
    "import pandas as pd\n",
    "from datetime import date"
   ]
  },
  {
   "cell_type": "code",
   "execution_count": null,
   "metadata": {},
   "outputs": [],
   "source": [
    "# Creacion de folder para data de Chrome\n",
    "Folder = \"Chrome_Driver_Data\"\n",
    "# Parent Directory path\n",
    "Directorio = \"C:\\\\\"\n",
    "#creacion de la ruta\n",
    "path_chrome = os.path.join(Directorio, Folder)\n",
    "\n",
    "CHECK_FOLDER = os.path.isdir(path_chrome)\n",
    "\n",
    "# If folder doesn't exist, then create it\n",
    "if not CHECK_FOLDER:\n",
    "    os.makedirs(path_chrome)\n",
    "\n",
    "# Definir ubicación del driver\n",
    "\n",
    "#Definir que driver se va a utilizar \n",
    "chromeOptions = webdriver.ChromeOptions()\n",
    "#Añadir opciones extras\n",
    "chromeOptions.add_argument(\"--start-maximized\") \n",
    "#chromeOptions.add_argument(\"--window-size=1300,200\")\n",
    "chromeOptions.add_argument(\"--disable-gpu\") \n",
    "chromeOptions.add_experimental_option(\"excludeSwitches\", [\"enable-logging\"]) \n",
    "chromeOptions.add_argument(\"user-data-dir=\" + path_chrome) \n",
    "chromeOptions.add_argument(\"--homepage=about:blank\")\n",
    "\n",
    "#Configurar el driver de selenium\n",
    "driver = webdriver.Chrome(service = Service(ChromeDriverManager().install()), options = chromeOptions)\n",
    "#self.driver = webdriver.Chrome(options = chromeOptions)"
   ]
  },
  {
   "cell_type": "code",
   "execution_count": null,
   "metadata": {},
   "outputs": [],
   "source": [
    "link = \"https://app.powerbi.com/groups/818dc071-4e6f-4a15-82e7-99e3c4be355a/permission/report/2/f81d818a-27e1-473e-865d-37565dc30478/directAccess?experience=power-bi\""
   ]
  },
  {
   "cell_type": "code",
   "execution_count": null,
   "metadata": {},
   "outputs": [],
   "source": [
    "driver.get(link)\n",
    "time.sleep(5)"
   ]
  },
  {
   "cell_type": "code",
   "execution_count": null,
   "metadata": {},
   "outputs": [],
   "source": [
    "#full tabla\n",
    "#element = driver.find_element(By.XPATH, '//*[@id=\"manage-permissions-table-container\"]')"
   ]
  },
  {
   "cell_type": "code",
   "execution_count": null,
   "metadata": {},
   "outputs": [],
   "source": [
    "#elemento por elemento\n",
    "#element = driver.find_element(By.XPATH, '//*[@id=\"artifactContentView\"]/div[1]/div[1]')"
   ]
  },
  {
   "cell_type": "code",
   "execution_count": null,
   "metadata": {},
   "outputs": [],
   "source": [
    "accesos = []\n",
    "\n",
    "for i in range(20):\n",
    "    for i in range(1, 51, 1):\n",
    "        try:\n",
    "            element = driver.find_element(By.XPATH, '//*[@id=\"artifactContentView\"]/div[1]/div[{}]'.format(i))\n",
    "            accesos.append(element.text)\n",
    "            #print(element.text)\n",
    "        except:\n",
    "            print(i)\n",
    "            break\n",
    "        \n",
    "    scroll_origin = ScrollOrigin.from_element(element)\n",
    "    ActionChains(driver).scroll_from_origin(scroll_origin, 0, 1500).perform()\n",
    "    time.sleep(1)"
   ]
  },
  {
   "cell_type": "code",
   "execution_count": null,
   "metadata": {},
   "outputs": [],
   "source": [
    "driver.quit()"
   ]
  },
  {
   "cell_type": "code",
   "execution_count": null,
   "metadata": {},
   "outputs": [],
   "source": [
    "accesos_df = pd.DataFrame(accesos)\n",
    "accesos_df.head()"
   ]
  },
  {
   "cell_type": "code",
   "execution_count": null,
   "metadata": {},
   "outputs": [],
   "source": [
    "accesos_df_final = accesos_df[0].str.split(\"\\n\", expand = True).copy()"
   ]
  },
  {
   "cell_type": "code",
   "execution_count": null,
   "metadata": {},
   "outputs": [],
   "source": [
    "accesos_df_final.head()"
   ]
  },
  {
   "cell_type": "code",
   "execution_count": null,
   "metadata": {},
   "outputs": [],
   "source": [
    "accesos_df_final.rename(columns = {0: \"iniciales\", 1:\"Persona\", 2:\"Correo\", 3:\"Permisos\"}, inplace=True)"
   ]
  },
  {
   "cell_type": "code",
   "execution_count": null,
   "metadata": {},
   "outputs": [],
   "source": [
    "accesos_df_final.drop_duplicates(inplace=True)"
   ]
  },
  {
   "cell_type": "code",
   "execution_count": null,
   "metadata": {},
   "outputs": [],
   "source": [
    "accesos_df_final.head()"
   ]
  },
  {
   "cell_type": "code",
   "execution_count": null,
   "metadata": {},
   "outputs": [],
   "source": [
    "tablero = \"\""
   ]
  },
  {
   "cell_type": "code",
   "execution_count": null,
   "metadata": {},
   "outputs": [],
   "source": [
    "accesos_df_final.to_excel(\"Accesos \" + tablero + \" \" + str(date.today()) +\".xlsx\")"
   ]
  },
  {
   "cell_type": "code",
   "execution_count": null,
   "metadata": {},
   "outputs": [],
   "source": []
  }
 ],
 "metadata": {
  "kernelspec": {
   "display_name": "varios_selenium",
   "language": "python",
   "name": "python3"
  },
  "language_info": {
   "codemirror_mode": {
    "name": "ipython",
    "version": 3
   },
   "file_extension": ".py",
   "mimetype": "text/x-python",
   "name": "python",
   "nbconvert_exporter": "python",
   "pygments_lexer": "ipython3",
   "version": "3.9.16"
  },
  "orig_nbformat": 4
 },
 "nbformat": 4,
 "nbformat_minor": 2
}
